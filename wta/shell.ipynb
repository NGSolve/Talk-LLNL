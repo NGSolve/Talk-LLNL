{
 "cells": [
  {
   "cell_type": "markdown",
   "metadata": {},
   "source": [
    "Naghdi shell\n",
    "===\n",
    "\n",
    "Joint work with M. Neunteufel ['19, '21], Phd thesis Neunteufel (2021)\n",
    "\n",
    "\n",
    "Geometric model and meshing. left surface only needed for boundary conditions."
   ]
  },
  {
   "cell_type": "code",
   "execution_count": null,
   "metadata": {},
   "outputs": [],
   "source": [
    "from netgen.csg import *\n",
    "from ngsolve import *\n",
    "from ngsolve.webgui import Draw\n",
    "\n",
    "geo = CSGeometry()\n",
    "cyl = Cylinder (Pnt(0,0,0),Pnt(1,0,0),0.4).bc(\"cyl\")\n",
    "left = Plane (Pnt(0,0,0), Vec(-1,0,0)).bc(\"left\")\n",
    "finitecyl = cyl * left * Plane(Pnt(1,0,0), Vec(1,0,0))\n",
    "\n",
    "geo.AddSurface (cyl, finitecyl)\n",
    "geo.NameEdge (cyl,left,\"left\")\n",
    "\n",
    "mesh = Mesh(geo.GenerateMesh(maxh=0.1)) \n",
    "mesh.Curve(3)\n",
    "Draw (mesh);"
   ]
  },
  {
   "cell_type": "markdown",
   "metadata": {},
   "source": [
    "## unknown fields:\n",
    "* displacement $u \\in [H^1(S)]^3$\n",
    "* linearized rotation $\\beta \\in H(\\text{curl},S)$\n",
    "* bending moments $\\sigma \\in H(\\text{div div},S)$"
   ]
  },
  {
   "cell_type": "code",
   "execution_count": null,
   "metadata": {},
   "outputs": [],
   "source": [
    "order = 3\n",
    "\n",
    "fes1 = HDivDivSurface(mesh, order=order-1)\n",
    "fes2 = VectorH1(mesh, order=order, dirichlet_bbnd=\"left\")\n",
    "fes3 = HCurl(mesh, order=order-1, dirichlet_bbnd=\"left\")\n",
    "fes = fes1 * fes2 * fes3\n",
    "\n",
    "sigma,u,beta = fes.TrialFunction()\n",
    "tau,v,delta = fes.TestFunction()\n",
    "\n",
    "sigma = sigma.Trace()\n",
    "tau = tau.Trace()\n",
    "beta = beta.Trace()\n",
    "delta = delta.Trace()\n",
    "\n",
    "gradv = Grad(v).Trace()\n",
    "gradu = Grad(u).Trace()\n",
    "\n",
    "nsurf = specialcf.normal(3)\n",
    "t = specialcf.tangential(3)\n",
    "\n",
    "nel = Cross(nsurf, t)\n",
    "\n",
    "ngradv = gradv.trans*nsurf\n",
    "ngradu = gradu.trans*nsurf\n",
    "\n",
    "sigman = sigma*nel\n",
    "taun = tau*nel\n",
    "\n",
    "def tang(u):\n",
    "    return (u*t)*t\n",
    "\n",
    "thickness = 0.1"
   ]
  },
  {
   "cell_type": "markdown",
   "metadata": {},
   "source": [
    "Membrane energy with primal method for displacement vector $u$:\n",
    "$$\n",
    "\\int_S W(C_{tt}(u)) \n",
    "$$\n",
    "Shear energy, $\\beta$ the linearized rotation in tangential plane:\n",
    "$$\n",
    "\\int_S | n^T \\nabla u - \\beta |^2 \n",
    "$$\n",
    "Bending energy (with TDNNS mixed method):\n",
    "$$\n",
    "t^2 \\int_S | \\varepsilon_{tt}(\\beta) |^2\n",
    "$$"
   ]
  },
  {
   "cell_type": "code",
   "execution_count": null,
   "metadata": {
    "scrolled": false
   },
   "outputs": [],
   "source": [
    "a = BilinearForm(fes)\n",
    "\n",
    "bending = -1/thickness**2*InnerProduct(sigma,tau)*ds + \\\n",
    "    (-div(sigma)*delta - div(tau)*beta)*ds + \\\n",
    "    (sigman * tang(delta) + taun*tang(beta))*ds(element_boundary=True)\n",
    "\n",
    "shear = (ngradu-beta)*(ngradv-delta)*ds\n",
    "\n",
    "a += (bending+shear).Compile()\n",
    "\n",
    "Pt = Id(3) - OuterProduct(nsurf, nsurf)\n",
    "Ft = gradu + Pt\n",
    "Ctt = Ft.trans * Ft\n",
    "Ett = Ctt - Pt\n",
    "a += Variation((InnerProduct(Ett,Ett)*ds).Compile())\n",
    "\n",
    "factor = Parameter(0.1)\n",
    "a += Variation((-factor*y*u[1]*ds).Compile())\n",
    "\n",
    "gfu = GridFunction(fes)"
   ]
  },
  {
   "cell_type": "markdown",
   "metadata": {},
   "source": [
    "Increase the load step-wise, solve the non-linear problem by Newton's method. First and second order derivatives are computed by automatic differentiation."
   ]
  },
  {
   "cell_type": "code",
   "execution_count": null,
   "metadata": {
    "scrolled": false
   },
   "outputs": [],
   "source": [
    "sceneu = Draw(Norm(gfu.components[0]), mesh, deformation=gfu.components[1]) \n",
    "from newtonsolver import NewtonMinimization\n",
    "for loadstep in range(4):\n",
    "    print (\"loadstep \", loadstep)\n",
    "    factor.Set (3*(loadstep+1))\n",
    "    with TaskManager():\n",
    "        NewtonMinimization (a, gfu)\n",
    "    sceneu.Redraw()"
   ]
  },
  {
   "cell_type": "code",
   "execution_count": null,
   "metadata": {},
   "outputs": [],
   "source": []
  },
  {
   "cell_type": "code",
   "execution_count": null,
   "metadata": {},
   "outputs": [],
   "source": []
  }
 ],
 "metadata": {
  "kernelspec": {
   "display_name": "Python 3 (ipykernel)",
   "language": "python",
   "name": "python3"
  },
  "language_info": {
   "codemirror_mode": {
    "name": "ipython",
    "version": 3
   },
   "file_extension": ".py",
   "mimetype": "text/x-python",
   "name": "python",
   "nbconvert_exporter": "python",
   "pygments_lexer": "ipython3",
   "version": "3.10.8"
  }
 },
 "nbformat": 4,
 "nbformat_minor": 2
}
