{
 "cells": [
  {
   "cell_type": "markdown",
   "metadata": {},
   "source": [
    "Natural Convection\n",
    "===\n",
    "\n",
    "Coupling of Navier-Stokes and heat transport\n",
    "\n",
    "* Change in temperature leads to gravity forces\n",
    "* Temperature is convected by fluid velocity\n",
    "\n",
    "Rayleigh-Benard benchmark example"
   ]
  },
  {
   "cell_type": "code",
   "execution_count": 1,
   "metadata": {},
   "outputs": [],
   "source": [
    "from ngsolve import *\n",
    "import netgen.geom2d\n",
    "import netgen.meshing\n",
    "from ngsolve.webgui import Draw\n",
    "import math\n",
    "\n",
    "from ngs_templates.NavierStokes import *\n",
    "from ngs_templates.ConvectionDiffusion import * \n",
    "\n",
    "ngsglobals.msg_level = 0"
   ]
  },
  {
   "cell_type": "code",
   "execution_count": 2,
   "metadata": {},
   "outputs": [],
   "source": [
    "geo = netgen.geom2d.SplineGeometry()\n",
    "geo.AddRectangle( (0,0), (0.06, 0.01), bcs=['b','r','t','l'])\n",
    "mesh = Mesh(geo.GenerateMesh(maxh=0.002))"
   ]
  },
  {
   "cell_type": "code",
   "execution_count": 3,
   "metadata": {},
   "outputs": [
    {
     "name": "stderr",
     "output_type": "stream",
     "text": [
      "ld: warning: -undefined dynamic_lookup may not work with chained fixups\n",
      "ld: warning: -undefined dynamic_lookup may not work with chained fixups\n"
     ]
    }
   ],
   "source": [
    "timestep = 0.1\n",
    "navstokes = NavierStokes (mesh, nu=1.04177e-6, order=3, timestep = timestep,\n",
    "                              inflow=\"\", outflow=\"\", wall=\"l|r|b|t\", uin=(0,0) )\n",
    "\n",
    "Tinitial = 293.5-50*y+y*(0.01-y)*1e3*sin(20/0.06*x*math.pi)\n",
    "\n",
    "convdiff = ConvectionDiffusionEquation (mesh, order=3, lam=1.38e-7, \\\n",
    "                wind = navstokes.velocity, dirichlet=\"b|t\", udir=Tinitial, timestep=timestep)\n",
    "convdiff.SetInitial(Tinitial)\n",
    "\n",
    "T0 = 293\n",
    "beta = 2.07e-4\n",
    "navstokes.AddForce ( (1-beta*(convdiff.concentration-T0))*(0, -9.81))\n",
    "\n",
    "navstokes.SolveInitial()"
   ]
  },
  {
   "cell_type": "code",
   "execution_count": null,
   "metadata": {},
   "outputs": [
    {
     "data": {
      "application/vnd.jupyter.widget-view+json": {
       "model_id": "e3bb7fbf168543178d5d7562473f29cb",
       "version_major": 2,
       "version_minor": 0
      },
      "text/plain": [
       "WebGuiWidget(layout=Layout(height='50vh', width='100%'), value={'gui_settings': {}, 'ngsolve_version': '6.2.23…"
      ]
     },
     "metadata": {},
     "output_type": "display_data"
    },
    {
     "data": {
      "application/vnd.jupyter.widget-view+json": {
       "model_id": "a2c99488aab445559c2556f4f74a1721",
       "version_major": 2,
       "version_minor": 0
      },
      "text/plain": [
       "WebGuiWidget(layout=Layout(height='50vh', width='100%'), value={'gui_settings': {}, 'ngsolve_version': '6.2.23…"
      ]
     },
     "metadata": {},
     "output_type": "display_data"
    },
    {
     "name": "stdout",
     "output_type": "stream",
     "text": [
      "t =  912.00000000013886\r"
     ]
    }
   ],
   "source": [
    "scenev = Draw (navstokes.velocity, mesh, \"velocity\", vectors = { \"grid_size\" : 40 })\n",
    "scenet = Draw (convdiff.concentration, mesh, \"temp\")\n",
    "\n",
    "t, tend = 0, 1000\n",
    "cnt = 0\n",
    "with TaskManager():\n",
    "    while t < tend:\n",
    "        navstokes.DoTimeStep()\n",
    "        convdiff.DoTimeStep()\n",
    "        t = t+timestep\n",
    "        cnt = cnt+1\n",
    "        if cnt % 10 == 0:           \n",
    "            print ('t = ', t, end='\\r')\n",
    "            scenev.Redraw()\n",
    "            scenet.Redraw()"
   ]
  },
  {
   "cell_type": "code",
   "execution_count": null,
   "metadata": {},
   "outputs": [],
   "source": []
  },
  {
   "cell_type": "code",
   "execution_count": null,
   "metadata": {},
   "outputs": [],
   "source": []
  }
 ],
 "metadata": {
  "kernelspec": {
   "display_name": "Python 3 (ipykernel)",
   "language": "python",
   "name": "python3"
  },
  "language_info": {
   "codemirror_mode": {
    "name": "ipython",
    "version": 3
   },
   "file_extension": ".py",
   "mimetype": "text/x-python",
   "name": "python",
   "nbconvert_exporter": "python",
   "pygments_lexer": "ipython3",
   "version": "3.10.8"
  }
 },
 "nbformat": 4,
 "nbformat_minor": 2
}
