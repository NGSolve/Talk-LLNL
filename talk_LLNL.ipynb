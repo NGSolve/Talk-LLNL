{
 "cells": [
  {
   "cell_type": "markdown",
   "id": "69bc83f8",
   "metadata": {},
   "source": [
    "# The Netgen/NGSolve Finite Element Software\n",
    "\n",
    "**Joachim Schöberl** <br>\n",
    "TU Wien\n",
    "\n",
    "<img src=\"TU_Wien.png\" width=\"70\">\n",
    "\n",
    "with contributions by \n",
    "\n",
    "**Jay Gopalakrishnan**, Portland State University<br>\n",
    "**Christoph Lehrenfeld**, Georg-August-Universität Göttingen <br>\n",
    "**Philip Lederer**, Twente University (formerly TU Wien)<br> \n",
    "**Michael Neunteufel**, TU Wien<br> \n",
    "**Sabine Zaglmayr**, Dassault Systems <br> \n",
    "**Lukas Kogler**, Siemens Industry Software GmbH <br>\n",
    "**Matthias Hochsteger**, **Christopher Lackner**, CERBSim GmbH\n",
    "\n",
    "### **FEM@LLNL** Seminar, Mar 2023\n",
    "\n",
    "This presentation uses the open-source finite element library NGSolve (www.ngsolve.org) within Jupyter Notebooks.\n",
    "\n",
    "\n",
    "<img src=\"pictures/NGSlogo.png\" width=\"100\">"
   ]
  },
  {
   "cell_type": "markdown",
   "id": "f50399f5",
   "metadata": {},
   "source": [
    "## Some first examples:\n",
    "\n",
    "* [Elasticity](wta/elasticity3D.ipynb)\n",
    "\n",
    "* [Maxwell](wta/coil.ipynb)\n",
    "\n",
    "* [Nonlinear Elasticity](wta/elasticity.ipynb)\n",
    "\n",
    "* [Shell model](wta/shell.ipynb)"
   ]
  },
  {
   "cell_type": "markdown",
   "id": "3a2dfb5e",
   "metadata": {},
   "source": [
    "If you like to try out this talk in your browser:\n",
    "\n",
    "**jupyterhub.cerbsim.com**\n",
    "\n",
    "user:  **ngshub_xx**<br>\n",
    "pwd: **solve!xx**\n",
    "\n",
    "xx = choose a number: 01 to 31\n",
    "\n",
    "(pick the day of month of your birthday)\n",
    "\n",
    "You find the notebooks in the shared/talk-LLNL folder. "
   ]
  },
  {
   "cell_type": "markdown",
   "id": "2f6bd296",
   "metadata": {},
   "source": [
    "## Software design:\n",
    "\n",
    "* NGSolve is written in modern C++, now on C++17\n",
    "* Classes are ported to Python using pybind11\n",
    "* MPI-based distributed memory parallelization\n",
    "* C++ thread based shared memory parallelization (TaskManager)\n",
    "* Python expression trees passed to C++, optional Code generation at run-time\n",
    " \n",
    " \n",
    "\n",
    "Function spaces:\n",
    "---\n",
    "* Provide finite elements, connectivity, and certain well-defined operators\n",
    "* Many high and variable order spaces\n",
    "* Scalar, vectorial, and matrix-valued\n",
    "* Spaces on surfaces, and on interelement-facets"
   ]
  },
  {
   "cell_type": "markdown",
   "id": "6966b5a7",
   "metadata": {},
   "source": [
    "Model templates:\n",
    "* [Navier Stokes](modeltemplates/NavierStokesMT.ipynb)\n",
    "* [Natural Convection](modeltemplates/natconv.ipynb)\n",
    "* [Domain morphing](notebooks/morphing.ipynb)\n",
    "* [Parallel Solvers](notebooks/parallelstokes.ipynb)"
   ]
  },
  {
   "cell_type": "markdown",
   "id": "1718edc7",
   "metadata": {},
   "source": [
    "## History:\n",
    "\n",
    "* Origin 1998 - 2002 within SFB on Numerical+Symbolic Sci. Comp, JKU Linz (U. Langer, G. Haase, M. Kuhn)\n",
    "* Redesign in 2000 at Texas A&M <br>\n",
    "T. Kolev and V. Dobrev have been around, find similar classes in MFEM\n",
    "* Starting grant on high order methods 2002-2008 in Linz, Austria <br>\n",
    "In particular high order methods for Maxwell equations (S. Zaglmayr) and Elasticity (A. Pechstein)\n",
    "* Fluid dynamics during time at RWTH Aachen 2006-2010, HDG methods (C. Lehrenfeld, H. Egger)\n",
    "* Python frontend (started in 2015, M. Hochsteger) inspired by FEniCS \n",
    "* TU Wien / Uni Wien joint FWF-funded research project SFB 65 on Nonlinear PDEs\n",
    "* TU Wien spin-off CERBSim started 2019: support and applications (C. Lackner, M. Hochsteger)"
   ]
  },
  {
   "cell_type": "markdown",
   "id": "5684e15d",
   "metadata": {},
   "source": [
    "## Recent developemnt:\n",
    "\n",
    "* [DG for waves on GPUs](notebooks/wave_cuda.ipynb)\n",
    "* [Calculation of Curvature](notebooks/Curvature.ipynb)\n",
    "* [Programming my own FiniteElement](mycpp/highorder.ipynb)"
   ]
  },
  {
   "cell_type": "markdown",
   "id": "d0fa8210",
   "metadata": {},
   "source": [
    "## External packages on top of NGSolve\n",
    "\n",
    "\n",
    " * [ngs-xfem](https://github.com/ngsxfem) Cut-FEM package by C. Lehrenfeld   \n",
    " * [tent-pitching](https://github.com/jayggg/ngstents) space-time solvers for hyperbolic equations by C. Wintersteiger, J. Gopalakrishnan\n",
    " * [shape optimization](https://docu.ngsolve.org/latest/i-tutorials/index.html#shape-and-topology-optimization) by P. Gangl, K. Sturm\n",
    " * model order reduction [pyMOR](https://pymor.org) by R. Milk, S. Rave, F. Schindler\n",
    " * dual-cell time-stepping for Maxwell with B. Kapidani and L. Codecasa"
   ]
  },
  {
   "cell_type": "markdown",
   "id": "d45a0b8c",
   "metadata": {},
   "source": [
    "If you like to hear more of NGSolve:\n",
    "* **NGSolve User Meeting 2023: Portland, July 9-11**"
   ]
  },
  {
   "cell_type": "code",
   "execution_count": null,
   "id": "4cd248e8",
   "metadata": {},
   "outputs": [],
   "source": []
  }
 ],
 "metadata": {
  "kernelspec": {
   "display_name": "Python 3 (ipykernel)",
   "language": "python",
   "name": "python3"
  },
  "language_info": {
   "codemirror_mode": {
    "name": "ipython",
    "version": 3
   },
   "file_extension": ".py",
   "mimetype": "text/x-python",
   "name": "python",
   "nbconvert_exporter": "python",
   "pygments_lexer": "ipython3",
   "version": "3.10.8"
  }
 },
 "nbformat": 4,
 "nbformat_minor": 5
}
